{
 "cells": [
  {
   "cell_type": "code",
   "execution_count": null,
   "metadata": {
    "nbsphinx": "hidden"
   },
   "outputs": [],
   "source": [
    "import cloudViewer as cv3d\n",
    "import numpy as np\n",
    "import os\n",
    "import sys\n",
    "\n",
    "# monkey patches visualization and provides helpers to load geometries\n",
    "sys.path.append('../..')\n",
    "import cloudViewer_tutorial as cv3dtut\n",
    "# change to True if you want to interact with the visualization windows\n",
    "cv3dtut.interactive = not \"CI\" in os.environ"
   ]
  },
  {
   "cell_type": "markdown",
   "metadata": {},
   "source": [
    "# Working with NumPy\n",
    "All data structures in CloudViewer are natively compatible with a [NumPy](https://numpy.org/) buffer. The following tutorial generates a variant of sync function using NumPy and visualizes the function using CloudViewer.\n",
    "\n",
    "First, we generate a $n \\times 3$ matrix `xyz`. Each column has $x$, $y$, and $z$ values of the function $z = \\frac{sin(x^2 + y^2)}{x^2 + y^2}$. $z_\\text{norm}$ is the normalized map of $z$ for the [0,1] range."
   ]
  },
  {
   "cell_type": "code",
   "execution_count": null,
   "metadata": {},
   "outputs": [],
   "source": [
    "# Generate some neat n times 3 matrix using a variant of sync function\n",
    "x = np.linspace(-3, 3, 401)\n",
    "mesh_x, mesh_y = np.meshgrid(x, x)\n",
    "z = np.sinc((np.power(mesh_x, 2) + np.power(mesh_y, 2)))\n",
    "z_norm = (z - z.min()) / (z.max() - z.min())\n",
    "xyz = np.zeros((np.size(mesh_x), 3))\n",
    "xyz[:, 0] = np.reshape(mesh_x, -1)\n",
    "xyz[:, 1] = np.reshape(mesh_y, -1)\n",
    "xyz[:, 2] = np.reshape(z_norm, -1)\n",
    "print('xyz')\n",
    "print(xyz)"
   ]
  },
  {
   "cell_type": "markdown",
   "metadata": {},
   "source": [
    "## From NumPy to cloudViewer.ccPointCloud\n",
    "CloudViewer provides conversion from a NumPy matrix to a vector of 3D vectors. By using `Vector3dVector`, a NumPy matrix can be directly assigned to `cloudViewer.ccPointCloud.points`.\n",
    "\n",
    "In this manner, any similar data structure such as `cloudViewer.ccPointCloud.colors` or `cloudViewer.ccPointCloud.normals` can be assigned or modified using NumPy. The code below also saves the point cloud as a `ply` file for the next step."
   ]
  },
  {
   "cell_type": "code",
   "execution_count": null,
   "metadata": {},
   "outputs": [],
   "source": [
    "# Pass xyz to CloudViewer.cv3d.geometry.ccPointCloud and visualize\n",
    "pcd = cv3d.geometry.ccPointCloud()\n",
    "pcd.set_points(cv3d.utility.Vector3dVector(xyz))\n",
    "cv3d.io.write_point_cloud(\"../../../TestData/sync.ply\", pcd)"
   ]
  },
  {
   "cell_type": "markdown",
   "metadata": {},
   "source": [
    "## From cloudViewer.ccPointCloud to NumPy\n",
    "As shown in this example, `pcd_load.points` of type `Vector3dVector` is converted into a NumPy array using `np.asarray`."
   ]
  },
  {
   "cell_type": "code",
   "execution_count": null,
   "metadata": {},
   "outputs": [],
   "source": [
    "# Load saved point cloud and visualize it\n",
    "pcd_load = cv3d.io.read_point_cloud(\"../../../TestData/sync.ply\")\n",
    "\n",
    "# Convert CloudViewer.cv3d.geometry.ccPointCloud to numpy array\n",
    "xyz_load = np.asarray(pcd_load.get_points())\n",
    "print('xyz_load')\n",
    "print(xyz_load)\n",
    "cv3d.visualization.draw_geometries([pcd_load])"
   ]
  }
 ],
 "metadata": {
  "celltoolbar": "Edit Metadata",
  "kernelspec": {
   "display_name": "Python 3",
   "language": "python",
   "name": "python3"
  },
  "language_info": {
   "codemirror_mode": {
    "name": "ipython",
    "version": 3
   },
   "file_extension": ".py",
   "mimetype": "text/x-python",
   "name": "python",
   "nbconvert_exporter": "python",
   "pygments_lexer": "ipython3",
   "version": "3.7.7"
  }
 },
 "nbformat": 4,
 "nbformat_minor": 2
}