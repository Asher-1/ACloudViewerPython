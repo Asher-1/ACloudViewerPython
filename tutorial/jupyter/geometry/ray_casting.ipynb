{
 "cells": [
  {
   "cell_type": "code",
   "execution_count": 13,
   "metadata": {
    "nbsphinx": "hidden",
    "tags": []
   },
   "outputs": [],
   "source": [
    "import cloudViewer as cv3d\n",
    "import numpy as np\n",
    "import matplotlib.pyplot as plt\n",
    "import os\n",
    "import sys\n",
    "\n",
    "# only needed for tutorial, monkey patches visualization\n",
    "sys.path.append('../..')\n",
    "import cloudViewer_tutorial\n",
    "# change to True if you want to interact with the visualization windows\n",
    "cloudViewer_tutorial.interactive = not \"CI\" in os.environ"
   ]
  },
  {
   "cell_type": "markdown",
   "metadata": {},
   "source": [
    "# Ray Casting"
   ]
  },
  {
   "cell_type": "markdown",
   "metadata": {},
   "source": [
    "The `RaycastingScene` class in CloudViewer provides basic ray casting functionality.\n",
    "In this tutorial we show how to create a scene and do ray intersection tests."
   ]
  },
  {
   "cell_type": "markdown",
   "metadata": {},
   "source": [
    "**Initialization**"
   ]
  },
  {
   "cell_type": "markdown",
   "metadata": {},
   "source": [
    "As the first step we initialize a `RaycastingScene` with one or more triangle meshes."
   ]
  },
  {
   "cell_type": "code",
   "execution_count": 14,
   "metadata": {},
   "outputs": [],
   "source": [
    "# Load mesh and convert to cloudViewer.t.geometry.TriangleMesh\n",
    "cube = cv3d.geometry.ccMesh.create_box().translate([0, 0, 0])\n",
    "cube = cv3d.t.geometry.TriangleMesh.from_legacy(cube)"
   ]
  },
  {
   "cell_type": "code",
   "execution_count": 15,
   "metadata": {},
   "outputs": [],
   "source": [
    "# Create a scene and add the triangle mesh\n",
    "scene = cv3d.t.geometry.RaycastingScene()\n",
    "cube_id = scene.add_triangles(cube)"
   ]
  },
  {
   "cell_type": "markdown",
   "metadata": {},
   "source": [
    "`add_triangles()` returns the ID for the added geometry.\n",
    "This ID can be used to identify which mesh is hit by a ray."
   ]
  },
  {
   "cell_type": "code",
   "execution_count": 16,
   "metadata": {},
   "outputs": [
    {
     "name": "stdout",
     "output_type": "stream",
     "text": [
      "0\n"
     ]
    }
   ],
   "source": [
    "print(cube_id)"
   ]
  },
  {
   "cell_type": "markdown",
   "metadata": {},
   "source": [
    "**Casting rays**"
   ]
  },
  {
   "cell_type": "markdown",
   "metadata": {},
   "source": [
    "We can now generate rays which are 6D vectors with origin and direction."
   ]
  },
  {
   "cell_type": "code",
   "execution_count": 17,
   "metadata": {},
   "outputs": [],
   "source": [
    "# We create two rays:\n",
    "# The first ray starts at (0.5,0.5,10) and has direction (0,0,-1).\n",
    "# The second ray start at (-1,-1,-1) and has direction (0,0,-1).\n",
    "rays = cv3d.core.Tensor([[0.5, 0.5, 10, 0, 0, -1], [-1, -1, -1, 0, 0, -1]],\n",
    "                       dtype=cv3d.core.Dtype.Float32)\n",
    "\n",
    "ans = scene.cast_rays(rays)"
   ]
  },
  {
   "cell_type": "markdown",
   "metadata": {},
   "source": [
    "The result contains information about a possible intersection with the geometry in the scene."
   ]
  },
  {
   "cell_type": "code",
   "execution_count": 18,
   "metadata": {},
   "outputs": [
    {
     "name": "stdout",
     "output_type": "stream",
     "text": [
      "dict_keys(['primitive_normals', 'primitive_ids', 'primitive_uvs', 't_hit', 'geometry_ids'])\n"
     ]
    }
   ],
   "source": [
    "print(ans.keys())"
   ]
  },
  {
   "cell_type": "markdown",
   "metadata": {},
   "source": [
    "- **t_hit** is the distance to the intersection. The unit is defined by the length of the ray direction. If there is no intersection this is *inf*\n",
    "- **geometry_ids** gives the id of the geometry hit by the ray. If no geometry was hit this is `RaycastingScene.INVALID_ID`\n",
    "- **primitive_ids** is the triangle index of the triangle that was hit or `RaycastingScene.INVALID_ID`\n",
    "- **primitive_uvs** is the barycentric coordinates of the intersection point within the triangle.\n",
    "- **primitive_normals** is the normal of the hit triangle."
   ]
  },
  {
   "cell_type": "markdown",
   "metadata": {},
   "source": [
    "We can see from **t_hit** and **geometry_ids** that the first ray did hit the mesh but the second ray missed."
   ]
  },
  {
   "cell_type": "code",
   "execution_count": 19,
   "metadata": {},
   "outputs": [
    {
     "name": "stdout",
     "output_type": "stream",
     "text": [
      "[8.999999      inf] [         0 4294967295]\n"
     ]
    }
   ],
   "source": [
    "print(ans['t_hit'].numpy(), ans['geometry_ids'].numpy())"
   ]
  },
  {
   "cell_type": "markdown",
   "metadata": {},
   "source": [
    "**Creating images**"
   ]
  },
  {
   "cell_type": "markdown",
   "metadata": {},
   "source": [
    "We now create a scene with multiple objects"
   ]
  },
  {
   "cell_type": "code",
   "execution_count": 20,
   "metadata": {},
   "outputs": [],
   "source": [
    "# Create meshes and convert to cloudViewer.t.geometry.TriangleMesh\n",
    "cube = cv3d.geometry.ccMesh.create_box().translate([0, 0, 0])\n",
    "cube = cv3d.t.geometry.TriangleMesh.from_legacy(cube)\n",
    "torus = cv3d.geometry.ccMesh.create_torus().translate([0, 0, 2])\n",
    "torus = cv3d.t.geometry.TriangleMesh.from_legacy(torus)\n",
    "sphere = cv3d.geometry.ccMesh.create_sphere(radius=0.5).translate(\n",
    "    [1, 2, 3])\n",
    "sphere = cv3d.t.geometry.TriangleMesh.from_legacy(sphere)\n",
    "\n",
    "scene = cv3d.t.geometry.RaycastingScene()\n",
    "scene.add_triangles(cube)\n",
    "scene.add_triangles(torus)\n",
    "_ = scene.add_triangles(sphere)"
   ]
  },
  {
   "cell_type": "markdown",
   "metadata": {},
   "source": [
    "`RaycastingScene` allows to organize rays with an arbitrary number of leading dimensions.\n",
    "For instance we can generate an array with shape `[h,w,6]` to organize rays for creating an image.\n",
    "The class also provides helper functions for creating rays for a pinhole camera.\n",
    "The following creates rays Tensor with shape `[240,320,6]`."
   ]
  },
  {
   "cell_type": "code",
   "execution_count": 21,
   "metadata": {},
   "outputs": [],
   "source": [
    "rays = cv3d.t.geometry.RaycastingScene.create_rays_pinhole(\n",
    "    fov_deg=90,\n",
    "    center=[0, 0, 2],\n",
    "    eye=[2, 3, 0],\n",
    "    up=[0, 1, 0],\n",
    "    width_px=640,\n",
    "    height_px=480,\n",
    ")\n",
    "# Ee can directly pass the rays tensor to the cast_rays function.\n",
    "ans = scene.cast_rays(rays)"
   ]
  },
  {
   "cell_type": "markdown",
   "metadata": {},
   "source": [
    "The output tensors preserve the shape of the rays and we can directly visualize the hit distance with matplotlib to get a depth map."
   ]
  },
  {
   "cell_type": "code",
   "execution_count": 22,
   "metadata": {
    "tags": []
   },
   "outputs": [
    {
     "data": {
      "text/plain": [
       "<matplotlib.image.AxesImage at 0x7f4a794eaad0>"
      ]
     },
     "execution_count": 22,
     "metadata": {},
     "output_type": "execute_result"
    },
    {
     "data": {
      "image/png": "[encoded data removed]",
      "text/plain": [
       "<Figure size 432x288 with 1 Axes>"
      ]
     },
     "metadata": {
      "needs_background": "light"
     },
     "output_type": "display_data"
    }
   ],
   "source": [
    "import matplotlib.pyplot as plt\n",
    "plt.imshow(ans['t_hit'].numpy())"
   ]
  },
  {
   "cell_type": "markdown",
   "metadata": {},
   "source": [
    "Furhter we can plot the other results to visualize the primitive normals, .."
   ]
  },
  {
   "cell_type": "code",
   "execution_count": 23,
   "metadata": {},
   "outputs": [
    {
     "data": {
      "text/plain": [
       "<matplotlib.image.AxesImage at 0x7f4a7946d590>"
      ]
     },
     "execution_count": 23,
     "metadata": {},
     "output_type": "execute_result"
    },
    {
     "data": {
      "image/png": "[encoded data removed]",
      "text/plain": [
       "<Figure size 432x288 with 1 Axes>"
      ]
     },
     "metadata": {
      "needs_background": "light"
     },
     "output_type": "display_data"
    }
   ],
   "source": [
    "# use abs to avoid negative values\n",
    "plt.imshow(np.abs(ans['primitive_normals'].numpy()))"
   ]
  },
  {
   "cell_type": "markdown",
   "metadata": {},
   "source": [
    ".. or the geometry IDs."
   ]
  },
  {
   "cell_type": "code",
   "execution_count": 24,
   "metadata": {},
   "outputs": [
    {
     "data": {
      "text/plain": [
       "<matplotlib.image.AxesImage at 0x7f4a793ea4d0>"
      ]
     },
     "execution_count": 24,
     "metadata": {},
     "output_type": "execute_result"
    },
    {
     "data": {
      "image/png": "[encoded data removed]",
      "text/plain": [
       "<Figure size 432x288 with 1 Axes>"
      ]
     },
     "metadata": {
      "needs_background": "light"
     },
     "output_type": "display_data"
    }
   ],
   "source": [
    "plt.imshow(ans['geometry_ids'].numpy(), vmax=3)"
   ]
  },
  {
   "cell_type": "code",
   "execution_count": null,
   "metadata": {},
   "outputs": [],
   "source": []
  }
 ],
 "metadata": {
  "kernelspec": {
   "display_name": "Python 3",
   "language": "python",
   "name": "python3"
  },
  "language_info": {
   "codemirror_mode": {
    "name": "ipython",
    "version": 3
   },
   "file_extension": ".py",
   "mimetype": "text/x-python",
   "name": "python",
   "nbconvert_exporter": "python",
   "pygments_lexer": "ipython3",
   "version": "3.7.11"
  }
 },
 "nbformat": 4,
 "nbformat_minor": 4
}