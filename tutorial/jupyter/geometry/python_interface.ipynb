{
 "cells": [
  {
   "cell_type": "markdown",
   "metadata": {},
   "source": [
    "# Python Interface\n",
    "For the C++ interface, see [here](http://www.cloudViewer.org/docs/release/cpp_api.html).\n",
    "\n",
    "## Install CloudViewer Python package\n",
    "For installing CloudViewer Python package, see [here](../../../getting_started.rst).\n",
    "\n",
    "## Install CloudViewer from source\n",
    "For installing from source, see [here](../../../compilation.rst)."
   ]
  },
  {
   "cell_type": "markdown",
   "metadata": {},
   "source": [
    "## Getting started\n",
    "This tutorial shows how to import the `cloudViewer` module and use it to load and inspect a point cloud. "
   ]
  },
  {
   "cell_type": "code",
   "execution_count": null,
   "metadata": {},
   "outputs": [],
   "source": [
    "import cloudViewer as cv3d"
   ]
  },
  {
   "cell_type": "markdown",
   "metadata": {},
   "source": [
    "<div class=\"alert alert-info\">\n",
    "    \n",
    "**Note:** \n",
    "\n",
    "Depending on the environment, the name of the Python library may not be `cloudViewer.so`. Regardless of the file name, `import cloudViewer` should work.\n",
    "\n",
    "</div>"
   ]
  },
  {
   "cell_type": "code",
   "execution_count": null,
   "metadata": {},
   "outputs": [],
   "source": [
    "pcd = cv3d.io.read_point_cloud(\"../../../TestData/ICP/cloud_bin_0.pcd\")\n",
    "print(pcd)"
   ]
  },
  {
   "cell_type": "markdown",
   "metadata": {},
   "source": [
    "This imports the `read_point_cloud` function from the `cloudViewer` module. It reads a point cloud file and returns an instance of the `PointCloud` class. `print(pcd)` prints some brief information about the point cloud."
   ]
  },
  {
   "cell_type": "markdown",
   "metadata": {},
   "source": [
    "## Using built-in help function\n",
    "\n",
    "### Browse CloudViewer\n",
    "`help(cloudViewer)` prints a description of the `cloudViewer` module."
   ]
  },
  {
   "cell_type": "code",
   "execution_count": null,
   "metadata": {},
   "outputs": [],
   "source": [
    "help(cv3d)"
   ]
  },
  {
   "cell_type": "markdown",
   "metadata": {},
   "source": [
    "### Description of a class in CloudViewer\n",
    "`help(cloudViewer.PointCloud)` provides a description of the `PointCloud` class."
   ]
  },
  {
   "cell_type": "code",
   "execution_count": null,
   "metadata": {},
   "outputs": [],
   "source": [
    "help(cv3d.geometry.ccPointCloud)"
   ]
  },
  {
   "cell_type": "markdown",
   "metadata": {},
   "source": [
    "### Description of a function in CloudViewer\n",
    "`help(cloudViewer.read_point_cloud)` provides a description of the input arguments and return type of the `read_point_cloud` function."
   ]
  },
  {
   "cell_type": "code",
   "execution_count": null,
   "metadata": {},
   "outputs": [],
   "source": [
    "help(cv3d.io.read_point_cloud)"
   ]
  }
 ],
 "metadata": {
  "celltoolbar": "Edit Metadata",
  "kernelspec": {
   "display_name": "Python 3",
   "language": "python",
   "name": "python3"
  },
  "language_info": {
   "codemirror_mode": {
    "name": "ipython",
    "version": 3
   },
   "file_extension": ".py",
   "mimetype": "text/x-python",
   "name": "python",
   "nbconvert_exporter": "python",
   "pygments_lexer": "ipython3",
   "version": "3.7.7"
  }
 },
 "nbformat": 4,
 "nbformat_minor": 2
}
