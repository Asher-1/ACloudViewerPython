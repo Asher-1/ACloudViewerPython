{
 "cells": [
  {
   "cell_type": "code",
   "execution_count": 7,
   "metadata": {
    "pycharm": {
     "is_executing": true
    }
   },
   "outputs": [],
   "source": [
    "import cloudViewer as cv3d\n",
    "from cloudViewer.web_visualizer import draw"
   ]
  },
  {
   "cell_type": "code",
   "execution_count": 8,
   "metadata": {
    "pycharm": {
     "is_executing": true
    }
   },
   "outputs": [
    {
     "name": "stdout",
     "output_type": "stream",
     "text": [
      "[CloudViewer INFO] Window window_4 created.\n"
     ]
    },
    {
     "data": {
      "application/vnd.jupyter.widget-view+json": {
       "model_id": "ab1d949e413b44d682ea6a4bec6acd53",
       "version_major": 2,
       "version_minor": 0
      },
      "text/plain": [
       "WebVisualizer(window_uid='window_4')"
      ]
     },
     "metadata": {},
     "output_type": "display_data"
    },
    {
     "name": "stdout",
     "output_type": "stream",
     "text": [
      "[CloudViewer INFO] [Called HTTP API (custom handshake)] /api/getIceServers\n",
      "[CloudViewer INFO] [Called HTTP API (custom handshake)] /api/call\n",
      "[CloudViewer INFO] [Called HTTP API (custom handshake)] /api/addIceCandidate\n",
      "[CloudViewer INFO] [Called HTTP API (custom handshake)] /api/addIceCandidate\n",
      "[CloudViewer INFO] DataChannelObserver::OnStateChange label: ServerDataChannel, state: open, peerid: 0.789643237296761\n",
      "[CloudViewer INFO] DataChannelObserver::OnStateChange label: ClientDataChannel, state: open, peerid: 0.789643237296761\n",
      "[CloudViewer INFO] Sending init frames to window_4.\n",
      "[CloudViewer INFO] [Called HTTP API (custom handshake)] /api/addIceCandidate\n",
      "[CloudViewer INFO] [Called HTTP API (custom handshake)] /api/addIceCandidate\n",
      "[CloudViewer INFO] [Called HTTP API (custom handshake)] /api/addIceCandidate\n",
      "[CloudViewer INFO] [Called HTTP API (custom handshake)] /api/addIceCandidate\n",
      "[CloudViewer INFO] [Called HTTP API (custom handshake)] /api/getIceCandidate\n"
     ]
    },
    {
     "name": "stderr",
     "output_type": "stream",
     "text": [
      "[237:637][25371] (stun_port.cc:96): Binding request timed out from 192.168.1.x:55790 (wlp62s0)\n",
      "[237:637][25371] (stun_port.cc:96): Binding request timed out from 192.168.1.x:55790 (wlp62s0)\n"
     ]
    }
   ],
   "source": [
    "cube_red = cv3d.geometry.ccMesh.create_box(1, 2, 4)\n",
    "cube_red.compute_vertex_normals()\n",
    "cube_red.paint_uniform_color((1.0, 0.0, 0.0))\n",
    "draw(cube_red)"
   ]
  },
  {
   "cell_type": "code",
   "execution_count": 6,
   "metadata": {
    "pycharm": {
     "is_executing": true
    }
   },
   "outputs": [
    {
     "name": "stdout",
     "output_type": "stream",
     "text": [
      "[CloudViewer INFO] Window window_3 created.\n"
     ]
    },
    {
     "data": {
      "application/vnd.jupyter.widget-view+json": {
       "model_id": "5acf258e9e704139a8915b8b5a408eea",
       "version_major": 2,
       "version_minor": 0
      },
      "text/plain": [
       "WebVisualizer(window_uid='window_3')"
      ]
     },
     "metadata": {},
     "output_type": "display_data"
    },
    {
     "name": "stdout",
     "output_type": "stream",
     "text": [
      "[CloudViewer INFO] [Called HTTP API (custom handshake)] /api/getIceServers\n",
      "[CloudViewer INFO] [Called HTTP API (custom handshake)] /api/call\n",
      "[CloudViewer INFO] [Called HTTP API (custom handshake)] /api/addIceCandidate\n",
      "[CloudViewer INFO] [Called HTTP API (custom handshake)] /api/addIceCandidate\n",
      "[CloudViewer INFO] [Called HTTP API (custom handshake)] /api/addIceCandidate\n",
      "[CloudViewer INFO] [Called HTTP API (custom handshake)] /api/addIceCandidate\n",
      "[CloudViewer INFO] DataChannelObserver::OnStateChange label: ServerDataChannel, state: open, peerid: 0.7937216081065741\n",
      "[CloudViewer INFO] DataChannelObserver::OnStateChange label: ClientDataChannel, state: open, peerid: 0.7937216081065741\n",
      "[CloudViewer INFO] Sending init frames to window_3.\n",
      "[CloudViewer INFO] [Called HTTP API (custom handshake)] /api/addIceCandidate\n",
      "[CloudViewer INFO] [Called HTTP API (custom handshake)] /api/addIceCandidate\n",
      "[CloudViewer INFO] [Called HTTP API (custom handshake)] /api/getIceCandidate\n"
     ]
    },
    {
     "name": "stderr",
     "output_type": "stream",
     "text": [
      "[000:000][25371] (stun_port.cc:96): Binding request timed out from 192.168.1.x:58845 (wlp62s0)\n",
      "[030:705][25371] (stun_port.cc:96): Binding request timed out from 192.168.1.x:43085 (wlp62s0)\n"
     ]
    }
   ],
   "source": [
    "cube_blue = cv3d.geometry.ccMesh.create_box(1, 2, 4)\n",
    "cube_blue.compute_vertex_normals()\n",
    "cube_blue.paint_uniform_color((0.0, 0.0, 1.0))\n",
    "draw(cube_blue)"
   ]
  },
  {
   "cell_type": "code",
   "execution_count": null,
   "metadata": {
    "pycharm": {
     "is_executing": true
    }
   },
   "outputs": [],
   "source": []
  }
 ],
 "metadata": {
  "kernelspec": {
   "display_name": "Python 3",
   "language": "python",
   "name": "python3"
  },
  "language_info": {
   "codemirror_mode": {
    "name": "ipython",
    "version": 3
   },
   "file_extension": ".py",
   "mimetype": "text/x-python",
   "name": "python",
   "nbconvert_exporter": "python",
   "pygments_lexer": "ipython3",
   "version": "3.7.11"
  }
 },
 "nbformat": 4,
 "nbformat_minor": 4
}
